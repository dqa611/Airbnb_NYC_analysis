{
 "cells": [
  {
   "cell_type": "markdown",
   "metadata": {},
   "source": [
    "<h1><center><font color='tomato'>Plan your Airbnb Stay in NYC</font></center></h1>\n",
    "<h5><center>Written & Published by Quoc-Anh Duong, Jul 17th 2019</center></h5>"
   ]
  },
  {
   "cell_type": "markdown",
   "metadata": {},
   "source": [
    "### A few notes from the Author:\n",
    "\n",
    "I built this notebook to demonstrate how Python could help solve real world problems by performing complex tasks that Excel is sometimes incapable of. \n",
    "\n",
    "But more importantly, I want to show how I can deliver a full data analysis package using this tool. From searching the data, understanding and setting a meaningful goals to analyzing, visualizing and documenting.\n",
    "\n",
    "In this project, I've utilized some of these following technical skills: \n",
    "- Loading (local file, online source, zipfile extract)\n",
    "- Processing (formatting, transforming, merging, filtering, functions, sorting, etc.)\n",
    "- Analysis (statistical summary, aggregation) \n",
    "- Visualization (matplotlib, geomap)\n",
    "- Machine Learning (optimization)\n",
    "\n",
    "I am inspired to enter the Data Science field, and I want to show you how I could to advance from practical business analyst to higher level of analytics and machine learning  "
   ]
  },
  {
   "cell_type": "markdown",
   "metadata": {},
   "source": [
    "### Introduction:\n",
    "\n",
    "Ever since Airbnb launched its hospitality service to the world, it's shaped the travelling experience of millions of peopple, bringing a whole new experience to both the host and the guest. To many people including myself, planning is half the fun of travel. And to many people including myself, the planning process is even more \"fun\" and intense when your time and budget are limited while trying to visit as many places as possible, whether it's for vacation or business purposes. A great big city like New York City requires careful planning, especially when it's your first time or when you have a few contraints and targets to meet. There are 3 factors that universally influence one's decision on booking a room:  \n",
    "1. Price\n",
    "2. Quality\n",
    "3. Distance \n",
    "\n",
    "This Jupyter notebook is my attempt to help you plan the NYC trip. In particular, this notebook will provide you some useful information that might help you get the best out of your Airbnb expense. This exercise is built in a linear step-by-step fashion way, meaning the preceding input will have impact on the following ones. Here's how it works:\n",
    "\n",
    "Within a price range and specific type of room, the first objective is using statistical analysis & visualization to point out areas in which the average score of all the listings in the area is higher than the average score in the city. The comparison is between various neighborhoods in NYC (all of Manhattan and area close to Manhattan in Brookly and Queens). Details about my analysis will be included in the notebook. \n",
    "\n",
    "After selecting the area, the notebook will ask you plan your itinerary to plan a full circle trip starting & ending from where you stay and visiting all the tourist attractions (you can edit this list too as well). As you may have guessed, the exercise's second objective is to draw the shortest itinerary. This notebook also has an optimization model to give you a small challenge to see if your itinerary plan is better than the model's. \n",
    "\n",
    "At this point, we've covered all 3 factors mentioned above and hopefully you will learn some new information and have some fun as much as I did when I wrote this notebook :)\n",
    "\n",
    "Because the city is big and there are thousands of options to choose, I will draw some parameters, which are also the inputs I will use and analyze. All the comments I have in the notebook will be based on those inputs. And of course you can change the inputs as you wish.    \n",
    "\n",
    "### Table of Contents:\n",
    "- Data Import & Processing:\n",
    "    - Import & Formatting Airbnb Data\n",
    "    - Import & Merge NYC Geomap, Zipcode Latitude and Longtitude, Neighborhood Info and Tourist Attraction Data \n",
    "    - Merge Airbnb and NYC Geography Info Tables\n",
    "- Input: \n",
    "    - Enter Price Range and Room Type\n",
    "- Output: \n",
    "    - Prepare for Plotting\n",
    "    - Visualize Statistical Analysis\n",
    "- Input: \n",
    "    - Enter Location\n",
    "    - Process Input\n",
    "    - List of Airbnb & Tourist Attraction Zipcode\n",
    "- Input: \n",
    "    - Enter Itinerary\n",
    "    - Process Input\n",
    "- Preparation:\n",
    "    - Prepare for plotting\n",
    "    - Function to calculate distance\n",
    "    - Function to convert index sequence to zipcode\n",
    "- Output: \n",
    "    - Combine List of Attraction and the chosen Zipcode\n",
    "    - Process Input\n",
    "    - Calculate total Itinerary Distance\n",
    "    - Prepare for Plotting\n",
    "    - Visualize Itinerary on Map\n",
    "- Optimization Model: \n",
    "    - Travelling Salesperson Model\n",
    "    - Input Model Parameters\n",
    "    - Calculate shortest Itinerary Distance\n",
    "    - Visualize Itinerary on Map\n",
    "    - Bonus: Find the Best Parameter Configurartion for the Model\n",
    "- Conclusion\n",
    "    \n",
    "### Input: \n",
    "Because there are too many type of listings with a wide range of price and selection, I will scale the analysis under these 2 initial following parameters:  \n",
    "\n",
    "**(A)**. **The type of room**. In the analysis, I will choose **1 private bedroom**\n",
    "\n",
    "**(B)**. **The price range**. In the analysis, I will choose **70** to **200** US dollars per night\n",
    "\n",
    "**(C)**. **The location**. In the analysis, I will choose zipcode **11104**\n",
    "\n",
    "**(D)**. **The itinerary**. The details of the itinerary will be shown in the notebook \n",
    "\n",
    "### Method:\n",
    "- In this project, I use zip code to locate places. Each zip code will have an assigned coordinate, usually the centeroid of the area. As the result, the distance is the straight line distance between 2 coordinate points, therefore not taking roads and bridges into account. \n",
    "- To calculate distance, I use a the pgeocode library. Besides having a zipcode coordinate in the library, the library also has a function to calculate the distance between zipcodes.\n",
    "- To caclulate the optimal itinerary, I use the mlrose library which contains a built-in function for Travelling Salesperson alike problem\n",
    "\n",
    "### Public Data Source:\n",
    "- I found a website http://insideairbnb.com which has public Airbnb data all over the world. Please check out the acknowledgement section of the wesbite\n",
    "- The NYC geomap is downloaded from https://geo.nyu.edu, NYU Spatial Data Repository website. Please check out the website for more information\n",
    "    \n",
    "### Disclaimer: \n",
    "I use the data for self-teaching and skil demonstration purpose only and not for any commercial or political purposes. I do not own the data nor have any inttention to disclose any private information. Except self-created data, any public data source is cited. I also cite any code block that I copied from the Internet."
   ]
  },
  {
   "cell_type": "code",
   "execution_count": null,
   "metadata": {},
   "outputs": [],
   "source": [
    "import pandas as pd\n",
    "import numpy as np\n",
    "import matplotlib.pyplot as plt\n",
    "import matplotlib.patches as mpatches # to create manual legend plot\n",
    "import seaborn as sns           \n",
    "import shapefile as shp         # to read dbf polygon file\n",
    "import itertools                # to make combinations\n",
    "import pgeocode                 # to caclulate distance between zipcodes https://pypi.org/project/pgeocode/\n",
    "import geopandas as gpd         # to plot geomap\n",
    "import mlrose                   # to solve optimization problems\n",
    "from IPython.display import display, HTML # to change cell output style \n",
    "\n",
    "%matplotlib inline"
   ]
  },
  {
   "cell_type": "code",
   "execution_count": null,
   "metadata": {},
   "outputs": [],
   "source": [
    "local_dic = \"C:/Users/anhqu/OneDrive/Documents/GitHub/Airbnb_analysis/\""
   ]
  },
  {
   "cell_type": "code",
   "execution_count": null,
   "metadata": {},
   "outputs": [],
   "source": [
    "# Constant vaue(s) used throughout the analysis\n",
    "km_to_mile = 0.621371"
   ]
  },
  {
   "cell_type": "markdown",
   "metadata": {},
   "source": [
    "#  <font color='tomato'>Data Import and Processing:</font>    \n",
    "### Airbnb Data"
   ]
  },
  {
   "cell_type": "code",
   "execution_count": null,
   "metadata": {},
   "outputs": [],
   "source": [
    "# http://insideairbnb.com/get-the-data.html\n",
    "raw_data = pd.read_csv('http://data.insideairbnb.com/united-states/ny/new-york-city/2019-06-02/data/listings.csv.gz')\n",
    "df = raw_data"
   ]
  },
  {
   "cell_type": "markdown",
   "metadata": {},
   "source": [
    "###### Data Overview"
   ]
  },
  {
   "cell_type": "code",
   "execution_count": null,
   "metadata": {},
   "outputs": [],
   "source": [
    "# Because the data has hundreds of columns, I tranpose the table to read the columns name easier \n",
    "pd.options.display.max_rows = 1000\n",
    "np.transpose(df[:2])"
   ]
  },
  {
   "cell_type": "markdown",
   "metadata": {},
   "source": [
    "##### Format Columns"
   ]
  },
  {
   "cell_type": "markdown",
   "metadata": {
    "scrolled": true
   },
   "source": [
    "Remove the dollar sign in the numeric columns"
   ]
  },
  {
   "cell_type": "code",
   "execution_count": null,
   "metadata": {},
   "outputs": [],
   "source": [
    "df['price'] = df['price'].replace('[\\$,]', '', regex=True).astype(float)\n",
    "df['weekly_price'] = df['weekly_price'].replace('[\\$,]', '', regex=True).astype(float)\n",
    "df['monthly_price'] = df['monthly_price'].replace('[\\$,]', '', regex=True).astype(float)\n",
    "df['security_deposit'] = df['security_deposit'].replace('[\\$,]', '', regex=True).astype(float)\n",
    "df['cleaning_fee'] = df['cleaning_fee'].replace('[\\$,]', '', regex=True).astype(float)\n",
    "df['extra_people'] = df['extra_people'].replace('[\\$,]', '', regex=True).astype(float)"
   ]
  },
  {
   "cell_type": "markdown",
   "metadata": {},
   "source": [
    "Fix the zipcode column\n"
   ]
  },
  {
   "cell_type": "code",
   "execution_count": null,
   "metadata": {},
   "outputs": [],
   "source": [
    "#remove NaNs\n",
    "df = df[df.zipcode.notnull()].reset_index(drop=True)\n",
    "\n",
    "#convert zipcode column to string\n",
    "df['zipcode'] = df['zipcode'].astype(str)\n",
    "\n",
    "#some zipcodes are formatted XXXXX.0 even after being converted to string. Remove '.0'\n",
    "df['zipcode'] = df['zipcode'].str.split('.', expand=True)\n",
    "\n",
    "#some zipcodes are formatted NY-XXXXX. Remove them\n",
    "df = df[df['zipcode'].apply(lambda x: len(x) ==5)].reset_index(drop=True)\n",
    "\n",
    "#remove any zipcode that is not in the NYC area (first number is not 1)\n",
    "df = df[(df['zipcode'].str[:1] == '1')]"
   ]
  },
  {
   "cell_type": "markdown",
   "metadata": {},
   "source": [
    "### NYC Map & Info Data"
   ]
  },
  {
   "cell_type": "markdown",
   "metadata": {},
   "source": [
    "#### Import NYC dbf geomap file from:  https://geo.nyu.edu/catalog/nyu-2451-34509"
   ]
  },
  {
   "cell_type": "code",
   "execution_count": null,
   "metadata": {},
   "outputs": [],
   "source": [
    "# Extract Zipfile https://stackoverflow.com/questions/3451111/unzipping-files-in-python\n",
    "import requests, zipfile, io \n",
    "\n",
    "z = zipfile.ZipFile(local_dic + \"nyu_2451_34509.zip\",'r')\n",
    "z.extractall(local_dic + \"Shapefiles and base map\")\n",
    "nyc_shp = (local_dic + \"Shapefiles and base map/nyu_2451_34509/nyu_2451_34509.dbf\")\n",
    "\n",
    "nyc_zipcode_geo = gpd.read_file(nyc_shp)"
   ]
  },
  {
   "cell_type": "markdown",
   "metadata": {},
   "source": [
    "#### Import Zipcode Longtitude and Lattitude "
   ]
  },
  {
   "cell_type": "code",
   "execution_count": null,
   "metadata": {},
   "outputs": [],
   "source": [
    "nomi = pgeocode.Nominatim('us')\n",
    "\n",
    "zipcode_coord_untransposed = nomi.query_postal_code(nyc_zipcode_geo['zcta'][0])\n",
    "\n",
    "for i in range(len(nyc_zipcode_geo)):\n",
    "    add_coord_data = nomi.query_postal_code(nyc_zipcode_geo['zcta'][i])\n",
    "    zipcode_coord_untransposed = pd.concat([pd.DataFrame(zipcode_coord_untransposed), pd.DataFrame(add_coord_data)], axis=1)\n",
    "    \n",
    "# Tranpose the table\n",
    "# Drop the first duplicated row\n",
    "zipcode_coord = zipcode_coord_untransposed.transpose()[1:]"
   ]
  },
  {
   "cell_type": "markdown",
   "metadata": {},
   "source": [
    "##### <font color='green'>**Comment**</font>   \n",
    "- The pgeocode library contains a list of zipcode coordinate\n",
    "- The coordinates could be an estimate (1) or centeroid (6),  which is indicated by the accuracy field"
   ]
  },
  {
   "cell_type": "markdown",
   "metadata": {},
   "source": [
    "#### Import Neighborhood Data"
   ]
  },
  {
   "cell_type": "code",
   "execution_count": null,
   "metadata": {
    "scrolled": true
   },
   "outputs": [],
   "source": [
    "neighborhood = pd.read_csv(local_dic + 'NYC_zipcode_neighborhood.csv') # this a self-created file I created\n",
    "neighborhood['Zipcode'] = neighborhood['Zipcode'].astype(str)\n",
    "\n",
    "nyc_zipcode_geo = nyc_zipcode_geo.merge(neighborhood, left_on='zcta', right_on='Zipcode', how='left')\n",
    "nyc_zipcode_geo = nyc_zipcode_geo[nyc_zipcode_geo.columns[: len(nyc_zipcode_geo.columns)-1]]"
   ]
  },
  {
   "cell_type": "markdown",
   "metadata": {},
   "source": [
    "##### <font color='green'>**Comment**</font>   \n",
    "- A neighborhood could have multiple zipcodes covering the area\n",
    "- I created this list so they are the areas that I'm going to include in the analysis. You can edit the list here"
   ]
  },
  {
   "cell_type": "markdown",
   "metadata": {},
   "source": [
    "Merge the Zipcode Tables"
   ]
  },
  {
   "cell_type": "code",
   "execution_count": null,
   "metadata": {},
   "outputs": [],
   "source": [
    "nyc_zipcode = nyc_zipcode_geo.merge(zipcode_coord, left_on='zcta', right_on='postal_code')"
   ]
  },
  {
   "cell_type": "markdown",
   "metadata": {},
   "source": [
    "Create a tuple column based on the Zipcode coordinate. The tuple will be used later on as input for the optimization model"
   ]
  },
  {
   "cell_type": "code",
   "execution_count": null,
   "metadata": {
    "scrolled": true
   },
   "outputs": [],
   "source": [
    "nyc_zipcode['coordinate'] = nyc_zipcode[['latitude', 'longitude']].apply(tuple, axis=1)"
   ]
  },
  {
   "cell_type": "markdown",
   "metadata": {},
   "source": [
    "Create Manhattan DF for plotting & Save the DF to dbf file for GeoPandas plotting"
   ]
  },
  {
   "cell_type": "code",
   "execution_count": null,
   "metadata": {},
   "outputs": [],
   "source": [
    "# http://www.newyorkzipcodes.com/city-manhattan/default.aspx\n",
    "manhat_zipcode = pd.read_csv(local_dic +'Manhattan_zipcode.csv')\n",
    "manhat_zipcode['Zipcode'] = manhat_zipcode['Zipcode'].astype(str)\n",
    "\n",
    "manhat_geomap = nyc_zipcode.merge(right=manhat_zipcode, \n",
    "                           left_on='zcta', right_on='Zipcode',\n",
    "                           how='inner')\n",
    "\n",
    "manhat_geomap = manhat_geomap[manhat_geomap.columns[ : len(manhat_geomap.columns) - 2]]\n",
    "\n",
    "manhat = gpd.GeoDataFrame(manhat_geomap, geometry='geometry')\n",
    "\n",
    "manhat.to_file(local_dic + 'Shapefiles and base map/ manhat.dbf')\n",
    "manhat_geomap.to_csv(local_dic + 'manhat.csv')"
   ]
  },
  {
   "cell_type": "markdown",
   "metadata": {},
   "source": [
    "#### Import List of Attractions"
   ]
  },
  {
   "cell_type": "code",
   "execution_count": null,
   "metadata": {},
   "outputs": [],
   "source": [
    "attractions = pd.read_csv(local_dic + 'NYC_tourist_attractions.csv') \n",
    "attractions['Zipcode'] = attractions['Zipcode'].astype(str)"
   ]
  },
  {
   "cell_type": "markdown",
   "metadata": {},
   "source": [
    "Create an Attraction-only Table"
   ]
  },
  {
   "cell_type": "code",
   "execution_count": null,
   "metadata": {},
   "outputs": [],
   "source": [
    "# Merge the Attractions table to the nyc_zipcode table to retrieve more info\n",
    "nyc_zipcode1 = pd.merge(left=nyc_zipcode, right=attractions[['Attractions']], \n",
    "                       left_on='zcta', right_on=attractions['Zipcode'], how='left')\n",
    "\n",
    "# Create a table containing only atractions from the master nyc_zipcode table\n",
    "attraction_df = nyc_zipcode1[nyc_zipcode1['Attractions'].notnull()].reset_index(drop=True)       "
   ]
  },
  {
   "cell_type": "markdown",
   "metadata": {},
   "source": [
    "##### <font color='green'>**Comment**</font>   \n",
    "- Each attraction will be assigned by the zipcode of its address, the zipcode coordinate is populated from the library above  \n",
    "- I created this list so they are the attractions that I'm going to include in the analysis. You can edit the list here"
   ]
  },
  {
   "cell_type": "markdown",
   "metadata": {},
   "source": [
    "###### Merge Airbnb Table to the Geomap file by Zipcode"
   ]
  },
  {
   "cell_type": "code",
   "execution_count": null,
   "metadata": {},
   "outputs": [],
   "source": [
    "df_unagg = pd.merge(left=df, right=nyc_zipcode, how='inner', left_on='zipcode', right_on='zcta')\n",
    "\n",
    "# Remove the coordinate tuple column \n",
    "df_unagg = df_unagg[df_unagg.columns[: (len(df_unagg.columns) - 1 )]]"
   ]
  },
  {
   "cell_type": "markdown",
   "metadata": {},
   "source": [
    "#  <font color='tomato'>Input:</font>    \n",
    "### Enter Price Range and Room Type"
   ]
  },
  {
   "cell_type": "markdown",
   "metadata": {},
   "source": [
    "##### <font color='green'>**Comment**</font>   \n",
    "- The price range I'm going to input is 70 to 200 US dollar\n",
    "- The type of room I'm going to input is one private bedroom \n",
    "- The area I'm going to include is in the neighborhood list"
   ]
  },
  {
   "cell_type": "code",
   "execution_count": null,
   "metadata": {
    "scrolled": true
   },
   "outputs": [],
   "source": [
    "your_min_price = input('select your minimum price: ')\n",
    "your_max_price = input('select your maximum price: ')"
   ]
  },
  {
   "cell_type": "code",
   "execution_count": null,
   "metadata": {
    "scrolled": true
   },
   "outputs": [],
   "source": [
    "# Filter Listings in desired area\n",
    "df_filtered = df_unagg[df_unagg['Neighborhood'].notnull()]\n",
    "\n",
    "# Filer type of Room \n",
    "df_filtered = df_filtered[(df_filtered['calculated_host_listings_count_private_rooms']==1) &\n",
    "         (df_filtered['price'] >= float(your_min_price)) & (df_filtered['price'] <=float(your_max_price))].reset_index()"
   ]
  },
  {
   "cell_type": "markdown",
   "metadata": {},
   "source": [
    "#  <font color='tomato'>Output:</font>    \n",
    "### Average Listing Rating Score by Neighborhood "
   ]
  },
  {
   "cell_type": "markdown",
   "metadata": {},
   "source": [
    "##### Pre-plotting Preparation"
   ]
  },
  {
   "cell_type": "code",
   "execution_count": null,
   "metadata": {},
   "outputs": [],
   "source": [
    "# Sort the boxplot by median\n",
    "price_median_neighborhood = df_filtered.groupby(['Neighborhood'])['price'].median()\n",
    "boxplot_sorted_median = price_median_neighborhood.sort_values(axis=0, ascending=True, inplace=False).keys().tolist()\n",
    "\n",
    "# color code the Borough\n",
    "def color_series(borough):\n",
    "    if borough == 'Manhattan': return 'deepskyblue'\n",
    "    if borough == 'Queens': return 'darkgreen'\n",
    "    if borough == 'Brooklyn': return 'steelblue'\n",
    "    if borough == 'Island': return 'olive'\n",
    "\n",
    "# Convert the Sorted Neighborhood to DF and Populate Borough column \n",
    "sorted_neighborhood = pd.DataFrame(boxplot_sorted_median)\n",
    "sorted_neighborhood.columns = ['Neighborhood']\n",
    "sorted_neighborhood = sorted_neighborhood.merge(neighborhood[['Neighborhood', 'Borough']], on='Neighborhood').\\\n",
    "                        drop_duplicates(keep='first').reset_index(drop=True)\n",
    "\n",
    "color_series1 = sorted_neighborhood['Borough'].apply(lambda borough: color_series(borough))\n",
    "\n",
    "color_series_plot = color_series1.reset_index(drop=True).tolist()\n",
    "sorted_neighborhood['color'] = color_series_plot"
   ]
  },
  {
   "cell_type": "markdown",
   "metadata": {},
   "source": [
    "##### Visualization"
   ]
  },
  {
   "cell_type": "code",
   "execution_count": null,
   "metadata": {
    "scrolled": false
   },
   "outputs": [],
   "source": [
    "# Plot figure Size\n",
    "plt.figure(figsize=(15,5))\n",
    "\n",
    "# Plot legend\n",
    "manhat_patch = mpatches.Patch(color='deepskyblue', label='Manhattan')\n",
    "queens_patch = mpatches.Patch(color='darkgreen', label='Queens')\n",
    "brooklyn_patch = mpatches.Patch(color='steelblue', label='Brooklyn')\n",
    "island_patch = mpatches.Patch(color='olive', label='Island')\n",
    "average_line = mpatches.Patch(color='r', label='Average Line')\n",
    "handles = [manhat_patch, queens_patch, brooklyn_patch, island_patch, average_line]\n",
    "\n",
    "\n",
    "                            # Price Boxplot\n",
    "ax = sns.boxplot(x='Neighborhood', y='price', data=df_filtered, \n",
    "                 order= boxplot_sorted_median, palette=color_series_plot)\n",
    "\n",
    "# Draw an average horizontal line\n",
    "# Format the plot\n",
    "plt.axhline(y=df_filtered['price'].mean(), color='r', linestyle='-')\n",
    "plt.title('Price by Neighborhood Sorted by Median Price', color='black', fontsize=20)\n",
    "plt.xticks(rotation=-78, color='black', fontsize=12)\n",
    "plt.yticks(color='black', fontsize=12)\n",
    "plt.legend(handles=handles,\n",
    "          loc='lower center', bbox_to_anchor=(1, 1), ncol=1)\n",
    "\n",
    "                        # Number of Listings Boxplot\n",
    "plt.figure(figsize=(15,5))\n",
    "\n",
    "ax = sns.countplot(x='Neighborhood', data=df_filtered, \n",
    "                 order= boxplot_sorted_median, palette=color_series_plot)\n",
    "\n",
    "# Format the plot\n",
    "plt.title('Number of Listings by Neighborhood Sorted by Median Price', color='black', fontsize=20)\n",
    "plt.xticks(rotation=-78, color='black', fontsize=12)\n",
    "plt.yticks(color='black', fontsize=12)\n",
    "plt.legend(handles=handles,\n",
    "          loc='lower center', bbox_to_anchor=(1, 1), ncol=1)\n",
    "\n",
    "\n",
    "                            # Reviews per month\n",
    "plt.figure(figsize=(15,5))\n",
    "\n",
    "ax = sns.boxplot(x='Neighborhood', y='reviews_per_month', data=df_filtered, \n",
    "                 order= boxplot_sorted_median, palette=color_series_plot)\n",
    "\n",
    "# Draw an average horizontal line\n",
    "# Format the plot\n",
    "plt.axhline(y=df_filtered['reviews_per_month'].mean(), color='r', linestyle='-')\n",
    "plt.title('Number of Reviews per month by Neighborhood Sorted by Median Price', color='black', fontsize=20)\n",
    "plt.xticks(rotation=-78, color='black', fontsize=12)\n",
    "plt.yticks(color='black', fontsize=12)\n",
    "plt.ylim([0, 10])\n",
    "plt.legend(handles=handles,\n",
    "          loc='lower center', bbox_to_anchor=(1, 1), ncol=1)\n",
    "\n",
    "\n",
    "                        # Host score quality Boxplot\n",
    "plt.figure(figsize=(15,5))\n",
    "\n",
    "neighborhood_score_accuracy = df_filtered.groupby(['Neighborhood'])['review_scores_accuracy'].mean().reset_index()\n",
    "\n",
    "sns.barplot(x='Neighborhood', y='review_scores_accuracy', \n",
    "            data=neighborhood_score_accuracy, order= boxplot_sorted_median, palette=color_series_plot)\n",
    "\n",
    "# Draw an average horizontal line\n",
    "# Format the plot\n",
    "plt.axhline(y=df_filtered['review_scores_accuracy'].mean(), color='r', linestyle='-')\n",
    "plt.title('Listing Accuracy Score by Neighborhood Sorted by Median Price', color='black', fontsize=20)\n",
    "plt.xticks(rotation=-78, color='black', fontsize=12)\n",
    "plt.yticks(color='black', fontsize=12)\n",
    "plt.ylim([8, 10])\n",
    "plt.legend(handles=handles,\n",
    "          loc='lower center', bbox_to_anchor=(1, 1), ncol=1)\n",
    "\n",
    "\n",
    "                        # Host score quality Boxplot\n",
    "plt.figure(figsize=(15,5))\n",
    "\n",
    "neighborhood_score_accuracy = df_filtered.groupby(['Neighborhood'])['review_scores_cleanliness'].mean().reset_index()\n",
    "\n",
    "sns.barplot(x='Neighborhood', y='review_scores_cleanliness', \n",
    "            data=neighborhood_score_accuracy, order= boxplot_sorted_median, palette=color_series_plot)\n",
    "\n",
    "# Draw an average horizontal line\n",
    "# Format the plot\n",
    "plt.axhline(y=df_filtered['review_scores_cleanliness'].mean(), color='r', linestyle='-')\n",
    "plt.title('Listing Cleanliness Score by Neighborhood Sorted by Median Price', color='black', fontsize=20)\n",
    "plt.xticks(rotation=-78, color='black', fontsize=12)\n",
    "plt.yticks(color='black', fontsize=12)\n",
    "plt.ylim([8, 10])\n",
    "plt.legend(handles=handles,\n",
    "          loc='lower center', bbox_to_anchor=(1, 1), ncol=1)\n",
    "\n",
    "\n",
    "                        # Host score quality Boxplot\n",
    "plt.figure(figsize=(15,5))\n",
    "\n",
    "neighborhood_score_accuracy = df_filtered.groupby(['Neighborhood'])['review_scores_value'].mean().reset_index()\n",
    "\n",
    "sns.barplot(x='Neighborhood', y='review_scores_value', \n",
    "            data=neighborhood_score_accuracy, order= boxplot_sorted_median, palette=color_series_plot)\n",
    "\n",
    "# Draw an average horizontal line\n",
    "# Format the plot\n",
    "plt.axhline(y=df_filtered['review_scores_value'].mean(), color='r', linestyle='-')\n",
    "plt.title('Listing Value Score by Neighborhood Sorted by Median Price', color='black', fontsize=20)\n",
    "plt.xticks(rotation=-78, color='black', fontsize=12)\n",
    "plt.yticks(color='black', fontsize=12)\n",
    "plt.ylim([8, 10])\n",
    "plt.legend(handles=handles,\n",
    "          loc='lower center', bbox_to_anchor=(1, 1), ncol=1)"
   ]
  },
  {
   "cell_type": "markdown",
   "metadata": {},
   "source": [
    "### <font color='royalblue'>Analysis:</font>   \n",
    "\n",
    "As you can see, there are 6 plots by Neighborhood which are sorted by median price per night. The borough is color coded as shown in the legend and the red line is the mean value of these neighorhoods. To avoid simplicity and bias, I chose these 3 rating scores (accuracy, cleanliness and value) as opposed to one overall rating score. The overall rating score is an average score of 5 ratings scores including location score, so I don't want to use neither of them. The distance factor will be considered in the second half of the project anyway. \n",
    "\n",
    "As you might have guessed, any neighborhood below Central Park has significantly higher price than Upper Manhattan, Brooklyn, Queens, Roosevelt and Randall Island. However, in this price range and type of room, the number of listings in \"hot\" area in Manhattan is not as many as other places. Also, there seems to be a large number of listings in Upper Manhattan and Williamsburg, but that is because those area in terms of size is much greater than Kips Bay for example. However, the size difference shouldn't skew the analysis by a lot.\n",
    "\n",
    "The reviews per month plot says a lot about the quality of the listings in the area because Airbnb encourages guests to rate and leave feedback to the host to create a give-and-take community. For example, Willamsburg has a large number of listings, but the average number of review per month is only 1. There are 2 explanations. (1): Willamsburg area provides a lot of decent rooms but the quality is neither so good nor so bad that that previous guests didn't want to spend 5-10 minutes to review it. Or (2): Willamsburg has a lot of rooms but the renting frequency is not high, even though the average is lower than the of the city's. However, noted that Willamsburg a large area, so the outliers might be the listings located near East River yet the average is skewed by unoccupied rooms farther East. Anyhow, what causes the number of reviews in this area so low is beyond the scope of the analysis.\n",
    "\n",
    "Another example is Midtown neighborhood from 25th to 34th St. For a very small number of listings in comparison to other neighborhood in the island, the rooms there sure receive a lot of reviews, and they seem to be bad reviews, as seen in the rating score barplots. In contrast, Midtown from 49th to 60th and Lincoln Sq receive many good reviews, even though their average price is similar to those in 25-34th St. This might be a sweet spot, but you still have to pay higher than average for this quality in the city.  \n",
    "\n",
    "Surprisingly, Harlem area can provide the same above-average room quality in Manhattan but less pricy, plus their number of listings are quite enough for you to choose around. However, these areas, of course, are farther away from the city center obviously. \n",
    "\n",
    "Overall, among price, quality and distance, you can always get at most 2 out 3, and it's your choice to decide which 2 you want to take. There's another factor, or a sub-factor of the quality factor, that the data is not available here is the room size. Manhattan apartment rooms can be as brutally small as a closet. If size is available, I'm sure we can do even further interesting analysis. If you ever find a place with all qualities above, please kindly share it to me too :) "
   ]
  },
  {
   "cell_type": "markdown",
   "metadata": {},
   "source": [
    "# <font color='tomato'>Input:</font>    \n",
    "### Enter Location"
   ]
  },
  {
   "cell_type": "markdown",
   "metadata": {},
   "source": [
    "##### <font color='green'>Comment:</font>   \n",
    "\n",
    "Moving on to the next analysis, for location, I'm going to choose the neighborhood with the lowest average price among other included neighborhood aboved, which is Sunnyside. The zipcode is 11104. "
   ]
  },
  {
   "cell_type": "code",
   "execution_count": null,
   "metadata": {},
   "outputs": [],
   "source": [
    "print('the list of neighborhood sorted by median price per night: \\n')\n",
    "print(boxplot_sorted_median)\n",
    "\n",
    "insert_neighborhood = input('\\n Please select one neighborhood: ')\n",
    "print('The zipcode(s) in this neighborhood are: \\n' + \n",
    "      str(nyc_zipcode[nyc_zipcode['Neighborhood'] == insert_neighborhood]['zcta']) + \n",
    "      '\\n Please select one zipcode for the input below \\n')"
   ]
  },
  {
   "cell_type": "code",
   "execution_count": null,
   "metadata": {},
   "outputs": [],
   "source": [
    "#Zipcode format is 5-digit string or number\n",
    "def insert_airbnb_zipcode(zipcode):\n",
    "    if (str(zipcode).isdigit()) & (len(str(zipcode)) == 5): \n",
    "        global yourairbnb_zipcode\n",
    "        yourairbnb_zipcode = str(zipcode).strip()\n",
    "        return print('Your airbnb zipcode is ' +  yourairbnb_zipcode)\n",
    "    else: \n",
    "        return print('Your zipcode format is incorrect')"
   ]
  },
  {
   "cell_type": "code",
   "execution_count": null,
   "metadata": {
    "scrolled": false
   },
   "outputs": [],
   "source": [
    "zipcode = input('Insert your Airbnb zipcode here (5-digit number): ')\n",
    "insert_airbnb_zipcode(zipcode)\n",
    "\n",
    "plt.figure(figsize=(15,15))\n",
    "\n",
    "ax = plt.subplot()\n",
    "x1 = nyc_zipcode.plot(ax=ax, color='grey')\n",
    "x5 = nyc_zipcode[nyc_zipcode['zcta'] == zipcode].plot(ax=ax, color='tomato')\n",
    "\n",
    "plt.ylim([185000, 260000])\n",
    "plt.xlim([975000, 1030000])\n",
    "plt.title(\"Your Airbnb room is in the highlighted area\", fontsize=20, color='black')\n"
   ]
  },
  {
   "cell_type": "markdown",
   "metadata": {},
   "source": [
    "#### Processing Input"
   ]
  },
  {
   "cell_type": "markdown",
   "metadata": {},
   "source": [
    "Create your Airbnb Coordinate"
   ]
  },
  {
   "cell_type": "code",
   "execution_count": null,
   "metadata": {},
   "outputs": [],
   "source": [
    "# Create Airbnb zipcode cooridnate\n",
    "yourairbnb_coord = nyc_zipcode.loc[nyc_zipcode['zcta'] == yourairbnb_zipcode, \n",
    "                                   'coordinate'].iloc[0]\n",
    "your_airbnb = ['Your_airbnb']\n",
    "your_airbnb.append(yourairbnb_coord)"
   ]
  },
  {
   "cell_type": "markdown",
   "metadata": {},
   "source": [
    "Add your Airbnb Coordinate to the Attraction Table"
   ]
  },
  {
   "cell_type": "code",
   "execution_count": null,
   "metadata": {},
   "outputs": [],
   "source": [
    "attraction_coords = attraction_df[['zcta', 'Attractions','coordinate']]\n",
    "\n",
    "# This makes sure we always delete the Airbnb row from previous iteration\n",
    "attraction_coords[attraction_coords['Attractions'] != 'Your Airbnb']\n",
    "\n",
    "# Create a new Airbnb row\n",
    "your_airbnb_row = pd.DataFrame({'zcta': yourairbnb_zipcode, \n",
    "                                'Attractions': 'Your Airbnb', \n",
    "                                'coordinate': [(yourairbnb_coord)]})\n",
    "\n",
    "# Add the Airbnb row to the DF\n",
    "attraction_coords = pd.concat([your_airbnb_row, attraction_coords]).reset_index(drop=True)\n",
    "\n",
    "# Create a coordinate-only list for optimization model \n",
    "coords_list = [list([attraction_coords['Attractions'][i],\n",
    "                     attraction_coords['coordinate'][i]]) \n",
    "               for i in range(len(attraction_coords))]"
   ]
  },
  {
   "cell_type": "markdown",
   "metadata": {},
   "source": [
    "#### List of Attractions & Your Aibnb"
   ]
  },
  {
   "cell_type": "code",
   "execution_count": null,
   "metadata": {},
   "outputs": [],
   "source": [
    "attraction_coords"
   ]
  },
  {
   "cell_type": "markdown",
   "metadata": {},
   "source": [
    "##### <font color='green'>Comment:</font>   \n",
    "\n",
    "From this point, the sequence of the itinerary is according to the index in this table. For example, if the value of the first index in a list of sequence is 0, that means the Airbnb Zipcode. If the second index value is 10, it means MET, according to the table above  "
   ]
  },
  {
   "cell_type": "markdown",
   "metadata": {},
   "source": [
    "# <font color='tomato'>Input:</font>    \n",
    "### Plan Your Itinerary"
   ]
  },
  {
   "cell_type": "markdown",
   "metadata": {},
   "source": [
    "##### <font color='green'>Comment:</font>     \n",
    "    \n",
    "- From this the attraction table above, enter the attraction visiting order starting from the Airbnb zipcode.\n",
    "- You can type the keyword of the attraction. E.g Empire State Building can be 'empire'. Please make sure you type correctly and one time for each attractions. Separate the keywords by comma\n",
    "- In the attraction list that I created, there are 13 attraction locations. If you use this list, please make sure you enter all 13 locations. If you want to add or remove location, change it here and now\n",
    "- For my analysis, I'm going to put the sequence as following (by keyword): met, harlem, columbus, rockefeller, bryant, grand, times, empire, chelsea, nyu, one, wall, dumbo\n",
    "- If you want to use my itinerary, copy and paste it to the cell below"
   ]
  },
  {
   "cell_type": "code",
   "execution_count": null,
   "metadata": {},
   "outputs": [],
   "source": [
    "your_attraction_raw_input = input(\"Enter your attraction visit order with keyword e.g Empire State Building can be input as empire \\n Separated each value by comma \\n\")"
   ]
  },
  {
   "cell_type": "markdown",
   "metadata": {},
   "source": [
    "#### Processing Input"
   ]
  },
  {
   "cell_type": "code",
   "execution_count": null,
   "metadata": {
    "scrolled": false
   },
   "outputs": [],
   "source": [
    "# split the input by comma\n",
    "your_attraction_input = your_attraction_raw_input.split(',')\n",
    "\n",
    "# format the string from both your input and the coordinate table\n",
    "your_attraction_input1 = [str(your_attraction_input[i]).strip().lower() for i in range(len(your_attraction_input))]\n",
    "attraction_coords['Attractions_lower'] = attraction_coords['Attractions'].str.lower()\n",
    "\n",
    "# populate the zipcode from your input\n",
    "your_attraction_input2 = [attraction_coords['zcta'][0]]\n",
    "for i in range(len(your_attraction_input1)):\n",
    "    your_attraction_input2.append(attraction_coords.loc[attraction_coords['Attractions_lower'].str.\\\n",
    "                                                    contains(your_attraction_input1[i]), 'zcta'].item())\n",
    "    \n",
    "# missing input attractions\n",
    "missing_attraction = list(np.setdiff1d(attraction_coords['zcta'].tolist(), your_attraction_input2))\n",
    "missing_list = attraction_coords['Attractions'][attraction_coords['zcta'].isin(missing_attraction)]\n",
    "\n",
    "print('You have entered: \\n')\n",
    "print(your_attraction_raw_input +'\\n')\n",
    "print(str(your_attraction_input2) +'\\n')\n",
    "print(str(len(your_attraction_input)) + ' attractions out of ' \n",
    "          + str((len(attraction_coords) -1)))"
   ]
  },
  {
   "cell_type": "markdown",
   "metadata": {},
   "source": [
    "# <font color='tomato'>Preparation:</font>"
   ]
  },
  {
   "cell_type": "markdown",
   "metadata": {},
   "source": [
    "### Prepare for Plotting"
   ]
  },
  {
   "cell_type": "markdown",
   "metadata": {},
   "source": [
    "Create Attractions DF for plotting & Save the DF to dbf file for GeoPandas plotting"
   ]
  },
  {
   "cell_type": "code",
   "execution_count": null,
   "metadata": {},
   "outputs": [],
   "source": [
    "attractions_geomap = nyc_zipcode[nyc_zipcode['zcta'].isin(list(set(attraction_coords['zcta'])))]\n",
    "\n",
    "attractions_geomap1 = attractions_geomap[attractions_geomap.columns[ : len(attractions_geomap.columns) - 1]]\n",
    "\n",
    "tour_area0 = gpd.GeoDataFrame(attractions_geomap1, geometry='geometry')\n",
    "\n",
    "tour_area0.to_file(local_dic + 'Shapefiles and base map/ tour_area.dbf')"
   ]
  },
  {
   "cell_type": "markdown",
   "metadata": {},
   "source": [
    "### Function: Calculate Distance between Zipcodes"
   ]
  },
  {
   "cell_type": "code",
   "execution_count": null,
   "metadata": {},
   "outputs": [],
   "source": [
    "# calculate the distance\n",
    "def calc_distance(zipcode_order_list):\n",
    "    dist = pgeocode.GeoDistance('us')\n",
    "    distance_km = []\n",
    "    for i in range(len(zipcode_order_list)): \n",
    "        distance_km.append(dist.query_postal_code(zipcode_order_list[i],\n",
    "                                                  zipcode_order_list[i+1 if i+1<len(zipcode_order_list) \n",
    "                                                                                                 else 0]))\n",
    "\n",
    "    distance_mile = [x * km_to_mile for x in distance_km]\n",
    "    return round(sum(distance_mile),2)"
   ]
  },
  {
   "cell_type": "markdown",
   "metadata": {},
   "source": [
    "### Function: Convert Attraction Order Index to Zipcode Order"
   ]
  },
  {
   "cell_type": "code",
   "execution_count": null,
   "metadata": {},
   "outputs": [],
   "source": [
    "def convert_seq_to_zipcode(attracion_seq):\n",
    "    zipcode_seq = []\n",
    "    for i in range(len(attracion_seq)):\n",
    "        zipcode_seq.append(attraction_coords['zcta'][attracion_seq[i]])\n",
    "    return zipcode_seq    "
   ]
  },
  {
   "cell_type": "markdown",
   "metadata": {},
   "source": [
    "# <font color='tomato'>Output:</font>\n",
    "### Visualize Itinerary on Map"
   ]
  },
  {
   "cell_type": "markdown",
   "metadata": {},
   "source": [
    "Insert  Itinerary to the Distance Calculation Function"
   ]
  },
  {
   "cell_type": "code",
   "execution_count": null,
   "metadata": {},
   "outputs": [],
   "source": [
    "zipcode_order_list = your_attraction_input2\n",
    "\n",
    "your_route_length = calc_distance(zipcode_order_list)\n",
    "\n",
    "print_your_route_length = 'Your route length is ' + str(your_route_length) +  ' mile'"
   ]
  },
  {
   "cell_type": "markdown",
   "metadata": {},
   "source": [
    "Populate the correct route order back to the tour_area df for plotting"
   ]
  },
  {
   "cell_type": "code",
   "execution_count": null,
   "metadata": {},
   "outputs": [],
   "source": [
    "your_route_order_table = pd.DataFrame(your_attraction_input2, columns=['zipcode']).reset_index()\n",
    "\n",
    "# Merge the route_order table to the tour_area df\n",
    "your_tour_area = tour_area0.merge(your_route_order_table, left_on='zcta', right_on='zipcode', how='left')\n",
    "your_tour_area.rename(columns={'index': 'route_order'}, inplace=True)"
   ]
  },
  {
   "cell_type": "markdown",
   "metadata": {},
   "source": [
    "###### Populate the Plot"
   ]
  },
  {
   "cell_type": "code",
   "execution_count": null,
   "metadata": {
    "scrolled": false,
    "slideshow": {
     "slide_type": "-"
    }
   },
   "outputs": [],
   "source": [
    "plt.figure(figsize=(15,15))\n",
    "\n",
    "ax = plt.subplot()\n",
    "x1 = nyc_zipcode.plot(ax=ax, color='grey')\n",
    "x2 = manhat.plot(ax=ax, color='deepskyblue')\n",
    "x3 = your_tour_area.plot(ax=ax, color='orange')\n",
    "x4 = your_tour_area[your_tour_area['zcta'] == yourairbnb_zipcode].plot(ax=ax, color='tomato')\n",
    "\n",
    "plt.ylim([185000, 260000])\n",
    "plt.xlim([975000, 1030000])\n",
    "plt.title(\"Your Trip Plan to Visit NYC\", fontsize=20, color='black')\n",
    "\n",
    "# label the legend\n",
    "teal_patch = mpatches.Patch(color='deepskyblue', label='Manhattan')\n",
    "red_patch = mpatches.Patch(color='tomato', label='Your Airbnb Zipcode')\n",
    "orange_patch = mpatches.Patch(color='orange', label='Attraction Zipcode')\n",
    "\n",
    "plt.legend(handles=[teal_patch, red_patch, orange_patch])\n",
    "\n",
    "# label the route order\n",
    "# https://stackoverflow.com/questions/38899190/geopandas-label-polygons\n",
    "your_tour_area['coords'] = your_tour_area['geometry'].apply(lambda x: x.representative_point().coords[:])\n",
    "your_tour_area['coords'] = [coords[0] for coords in your_tour_area['coords']]\n",
    "\n",
    "for idx, row in your_tour_area.iterrows():\n",
    "    plt.annotate(s=row['route_order'], xy=row['coords'], \n",
    "                 horizontalalignment='center', fontweight='bold', fontsize='20')\n",
    "    \n",
    "# print total distance\n",
    "print(print_your_route_length)\n",
    "# Your manual route order\n",
    "print('\\n')\n",
    "print('Your Trip Itinerary')\n",
    "print(your_attraction_raw_input)"
   ]
  },
  {
   "cell_type": "markdown",
   "metadata": {},
   "source": [
    "# <font color='tomato'>Optimization Model:</font>\n",
    "### Find Shortest Itinerary"
   ]
  },
  {
   "cell_type": "markdown",
   "metadata": {},
   "source": [
    "### Travelling Salesperson Model"
   ]
  },
  {
   "cell_type": "markdown",
   "metadata": {},
   "source": [
    "##### <font color='green'>Comment:</font>   \n",
    "The travelling salesperson problem (TSP) is a classic optimization problem where the goal is to determine the shortest tour of a collection of n “cities” (i.e. nodes), starting and ending in the same city and visiting all of the other cities exactly once. \n",
    "\n",
    "- Because the algoritm's goal is to calculate the shortest distance, it doesn't matter where we start as long as we follow the correct sequence order \n",
    "\n",
    "- The sequence number represents the index of the attractions in the attraction_coords table above \n",
    "\n",
    "https://mlrose.readthedocs.io/en/stable/source/tutorial2.html"
   ]
  },
  {
   "cell_type": "code",
   "execution_count": null,
   "metadata": {},
   "outputs": [],
   "source": [
    "def opt_tsp_seq(mutation_prob_input, random_state_input, max_attempts_input):\n",
    "    # Initialize fitness function object using coords_list\n",
    "    fitness_coords = mlrose.TravellingSales(coords = \n",
    "                                           [coords_list[i][1] for i in \n",
    "                                            range(len(coords_list))])\n",
    "\n",
    "    # Define optimization problem object\n",
    "    problem_fit = mlrose.TSPOpt(length = len(coords_list), \n",
    "                                fitness_fn = fitness_coords, maximize=False)\n",
    "\n",
    "    # Solve problem using the genetic algorithm\n",
    "    attraction_order, best_fitness = mlrose.genetic_alg(problem_fit, \n",
    "                                                        mutation_prob = mutation_prob_input,\n",
    "                                                        random_state = random_state_input,\n",
    "                                                        max_attempts = max_attempts_input)\n",
    "\n",
    "    return [list(attraction_order), best_fitness]"
   ]
  },
  {
   "cell_type": "markdown",
   "metadata": {},
   "source": [
    "### <font color='tomato'>Input:</font>\n",
    "#### Algorithm Parameters"
   ]
  },
  {
   "cell_type": "markdown",
   "metadata": {},
   "source": [
    "##### <font color='green'>Comment:</font>   \n",
    "If this is your first run of the notebook, then use these following paramters: \n",
    "\n",
    "I ran a loop to plug in various combination of paramter to derive the shortest distance. The loop code block will be at the end of the notebook so the notebook could run the whole project first, while you're reading the code the loop code can run in the background"
   ]
  },
  {
   "cell_type": "code",
   "execution_count": null,
   "metadata": {
    "scrolled": true
   },
   "outputs": [],
   "source": [
    "model_attraction_order = opt_tsp_seq(mutation_prob_input = .8, \n",
    "                                     random_state_input = 10, \n",
    "                                     max_attempts_input = 300)"
   ]
  },
  {
   "cell_type": "markdown",
   "metadata": {},
   "source": [
    "### <font color='tomato'>Output:</font>\n",
    "#### Calculate Distance from the TSP Model Itinerary"
   ]
  },
  {
   "cell_type": "markdown",
   "metadata": {},
   "source": [
    "Modify the Sequence Order"
   ]
  },
  {
   "cell_type": "code",
   "execution_count": null,
   "metadata": {},
   "outputs": [],
   "source": [
    "attraction_list_1 = list(model_attraction_order[0])\n",
    "\n",
    "# First part is from 0 to end the list\n",
    "# Second part is adding from beginning of the list to last number before 0\n",
    "tsp_model_route1 = attraction_list_1[attraction_list_1.index(0) : ] + \\\n",
    "                attraction_list_1[ : attraction_list_1.index(0)] "
   ]
  },
  {
   "cell_type": "code",
   "execution_count": null,
   "metadata": {
    "scrolled": true,
    "slideshow": {
     "slide_type": "-"
    }
   },
   "outputs": [],
   "source": [
    "tsp_model_order1 = []\n",
    "\n",
    "# order of the optimal result starting from airbnb    \n",
    "for index, value in enumerate(tsp_model_route1):\n",
    "    value = coords_list[tsp_model_route1[index]][0]\n",
    "    tsp_model_order1.append(value)\n",
    "    print(index, value)"
   ]
  },
  {
   "cell_type": "markdown",
   "metadata": {},
   "source": [
    "Plug the sequence to the function"
   ]
  },
  {
   "cell_type": "code",
   "execution_count": null,
   "metadata": {
    "scrolled": true
   },
   "outputs": [],
   "source": [
    "tsp_model_zipcode_seq = convert_seq_to_zipcode(tsp_model_route1)\n",
    "\n",
    "zipcode_order_list = tsp_model_zipcode_seq\n",
    "\n",
    "tsp_model_length = calc_distance(zipcode_order_list)\n",
    "\n",
    "print_tsp_model_length = 'TSP model route length is ' + str(tsp_model_length) +  ' mile'\n",
    "\n",
    "print(print_tsp_model_length)"
   ]
  },
  {
   "cell_type": "markdown",
   "metadata": {},
   "source": [
    "###### Pre-Plotting"
   ]
  },
  {
   "cell_type": "code",
   "execution_count": null,
   "metadata": {},
   "outputs": [],
   "source": [
    "# Populate the correct route order back to the tour_area df for plotting\n",
    "model_route_order = []\n",
    "\n",
    "for index in range(len(tsp_model_route1)):\n",
    "    model_route_order.append(attraction_coords['zcta'][tsp_model_route1[index]])\n",
    "\n",
    "model_route_order_table = pd.DataFrame(model_route_order, columns=['zipcode']).reset_index()\n",
    "\n",
    "# Merge the route_order table to the tour_area df\n",
    "model_tour_area = tour_area0.merge(model_route_order_table, left_on='zcta', right_on='zipcode', how='left')\n",
    "model_tour_area.rename(columns={'index': 'route_order'}, inplace=True)"
   ]
  },
  {
   "cell_type": "code",
   "execution_count": null,
   "metadata": {
    "scrolled": false,
    "slideshow": {
     "slide_type": "-"
    }
   },
   "outputs": [],
   "source": [
    "plt.figure(figsize=(15,15))\n",
    "\n",
    "ax = plt.subplot()\n",
    "x1 = nyc_zipcode.plot(ax=ax, color='grey', legend=True)\n",
    "x2 = manhat.plot(ax=ax, color='deepskyblue', legend=True)\n",
    "x3 = model_tour_area.plot(ax=ax, color='orange', legend=True)\n",
    "x4 = model_tour_area[model_tour_area['zcta'] == yourairbnb_zipcode].plot(ax=ax, color='tomato')\n",
    "\n",
    "plt.ylim([185000, 260000])\n",
    "plt.xlim([975000, 1030000])\n",
    "plt.title(\"Algorithm-generated Suggested Plan Trip to NYC\", fontsize=20, color='black')\n",
    "\n",
    "# label the legend\n",
    "teal_patch = mpatches.Patch(color='deepskyblue', label='Manhattan')\n",
    "red_patch = mpatches.Patch(color='tomato', label='Your Airbnb Zipcode')\n",
    "orange_patch = mpatches.Patch(color='orange', label='Attraction Zipcode')\n",
    "\n",
    "plt.legend(handles=[teal_patch, red_patch, orange_patch])\n",
    "\n",
    "\n",
    "# label the route order\n",
    "# https://stackoverflow.com/questions/38899190/geopandas-label-polygons\n",
    "model_tour_area['coords'] = model_tour_area['geometry'].apply(lambda x: x.representative_point().coords[:])\n",
    "model_tour_area['coords'] = [coords[0] for coords in model_tour_area['coords']]\n",
    "\n",
    "for idx, row in model_tour_area.iterrows():\n",
    "    plt.annotate(s=row['route_order'], xy=row['coords'], \n",
    "                 horizontalalignment='center', fontweight='bold', fontsize='20')\n",
    "\n",
    "# print shortest distance\n",
    "print(print_tsp_model_length)\n",
    "# algorithm route order\n",
    "print('\\n')\n",
    "print(tsp_model_order1)"
   ]
  },
  {
   "cell_type": "code",
   "execution_count": null,
   "metadata": {
    "scrolled": false
   },
   "outputs": [],
   "source": [
    "print(print_your_route_length)\n",
    "print(print_tsp_model_length)\n",
    "\n",
    "if tsp_model_length < your_route_length:\n",
    "    print('Computer won')\n",
    "else:\n",
    "    print('Congratulations! You won')"
   ]
  },
  {
   "cell_type": "markdown",
   "metadata": {},
   "source": [
    "### <font color='royalblue'>Analysis:</font>   \n",
    "I'm certainly positive that you KNOW your itinerary is the BEST route possible. Congratulations if you beat the computer by a mile !!! If not, it's OK because the computer has failed thousands of times before reaching to this level\n",
    "\n",
    "The fact that the TSP model result is not as good as yours might be because of the the parameters we set for the model. The TSP is a hyperparameter model, meaning it requires external parameter configuration from user, the paramter values cannot be estimated. When we apply the paramter, the model result is the local best value within those parameters, and it might not be the global best value as yours might be. The model caclulates the distance between the points on a 2D plane, and sum the total connection length of the nodes and show us the optimal value.\n",
    "\n",
    "This is one of the major drawbacks of this model. The more nodes we add to the model the more computationally expensive and lower chance of yielding the global optimal result.  \n",
    "\n",
    "After many attempts, I found out that these followings parameters yield the best result:\n",
    "- Mutation Probability is as high as 0.8\n",
    "- Maximum attempts should be below 500. Anything above that won't yield better result but rather slow the model down\n",
    "- Random state should be as low as 10"
   ]
  },
  {
   "cell_type": "markdown",
   "metadata": {},
   "source": [
    "### <font color='tomato'>Bonus:</font>\n",
    "### Find the Best Paramter Configuration for the Optimization Model"
   ]
  },
  {
   "cell_type": "markdown",
   "metadata": {},
   "source": [
    "##### <font color='green'>Comment:</font>   \n",
    "\n",
    "The best way to find out the optimal config is apply the grid approach, meaning we will test many combination of the parameters and compare the result\n",
    "\n",
    "This step takes a lot of time, yet it doesn't guarantee the more combinations (more time) we run and test, the model will yield better result.\n",
    "\n",
    "In this case, I set the mutation probablity ranging from 0 to 100%, and random sate is from 0 to 50 with increment of 10. The maximum attempt will be fixed or manually changed. I set it to 300. You can change any of this paramter choices. \n",
    "\n",
    "The result will be the total distance of the route, you can use that to compare with previous runs you did or with your manual itinerary\n",
    "https://www.datacamp.com/community/tutorials/parameter-optimization-machine-learning-models"
   ]
  },
  {
   "cell_type": "code",
   "execution_count": 16,
   "metadata": {},
   "outputs": [
    {
     "name": "stdout",
     "output_type": "stream",
     "text": [
      "Do you wish to continue? This code block below will take a lot of time. Type \"y\" to run the cell. Other inputs will not run \n",
      "asdas\n"
     ]
    }
   ],
   "source": [
    "run_find_opt_config = input('Do you wish to continue? This code block below will take a lot of time. Type \"y\" to run the cell. Other inputs will not run: \\n')\n",
    "if run_find_opt_config == 'y': \n",
    "    mutation_prob_range = range(0, 10, 1)\n",
    "    random_state_input = range(0, 20)\n",
    "    opt_seq_combination = []\n",
    "\n",
    "    parameter_comb = [[x,y] for x in mutation_prob_range for y in random_state_input]\n",
    "\n",
    "    for i in range(len(parameter_comb)):\n",
    "        opt_seq_combination.append(opt_tsp_seq(mutation_prob_input= parameter_comb[i][0] /10 , \n",
    "                                     random_state_input=parameter_comb[i][1], \n",
    "                                     max_attempts_input=200)) #manually change this value ranging 100-500)\n",
    "    opt_seq_comb_result = []\n",
    "    for i in range(len(opt_seq_combination)):\n",
    "        opt_seq_comb_result.append([parameter_comb[i],\n",
    "                                opt_seq_combination[i][0],\n",
    "                                calc_distance(convert_seq_to_zipcode(opt_seq_combination[i][0]))])\n",
    "    print(opt_seq_comb_result)    \n",
    "else: \n",
    "    pass"
   ]
  },
  {
   "cell_type": "markdown",
   "metadata": {},
   "source": [
    "# <font color='tomato'>Conclusion:</font>"
   ]
  },
  {
   "cell_type": "markdown",
   "metadata": {},
   "source": [
    "Findings Summary: \n",
    "\n",
    "- The relationship between price, quality and distance is not linear. Higher price or good location doesn't guarantee good quality. \n",
    "\n",
    "- Optimization model is computationally expensive if we are trying to search for the optimal solution.  "
   ]
  },
  {
   "cell_type": "markdown",
   "metadata": {},
   "source": [
    "                                                #End of Notebook"
   ]
  }
 ],
 "metadata": {
  "kernelspec": {
   "display_name": "Python 3",
   "language": "python",
   "name": "python3"
  },
  "language_info": {
   "codemirror_mode": {
    "name": "ipython",
    "version": 3
   },
   "file_extension": ".py",
   "mimetype": "text/x-python",
   "name": "python",
   "nbconvert_exporter": "python",
   "pygments_lexer": "ipython3",
   "version": "3.7.0"
  }
 },
 "nbformat": 4,
 "nbformat_minor": 2
}
